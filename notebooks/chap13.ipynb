{
 "cells": [
  {
   "cell_type": "markdown",
   "metadata": {},
   "source": [
    "# Modeling and Simulation in Python\n",
    "\n",
    "Chapter 13\n",
    "\n",
    "Copyright 2017 Allen Downey\n",
    "\n",
    "License: [Creative Commons Attribution 4.0 International](https://creativecommons.org/licenses/by/4.0)\n"
   ]
  },
  {
   "cell_type": "code",
   "execution_count": 1,
   "metadata": {},
   "outputs": [],
   "source": [
    "# Configure Jupyter so figures appear in the notebook\n",
    "%matplotlib inline\n",
    "\n",
    "# Configure Jupyter to display the assigned value after an assignment\n",
    "%config InteractiveShell.ast_node_interactivity='last_expr_or_assign'\n",
    "\n",
    "# import functions from the modsim.py module\n",
    "from modsim import *"
   ]
  },
  {
   "cell_type": "markdown",
   "metadata": {},
   "source": [
    "### Code from previous chapters"
   ]
  },
  {
   "cell_type": "markdown",
   "metadata": {},
   "source": [
    "`make_system`, `plot_results`, and `calc_total_infected` are unchanged."
   ]
  },
  {
   "cell_type": "code",
   "execution_count": 2,
   "metadata": {},
   "outputs": [],
   "source": [
    "def make_system(beta, gamma):\n",
    "    \"\"\"Make a system object for the SIR model.\n",
    "    \n",
    "    beta: contact rate in days\n",
    "    gamma: recovery rate in days\n",
    "    \n",
    "    returns: System object\n",
    "    \"\"\"\n",
    "    init = State(S=89, I=1, R=0)\n",
    "    init /= np.sum(init)\n",
    "\n",
    "    t0 = 0\n",
    "    t_end = 7 * 14\n",
    "\n",
    "    return System(init=init, t0=t0, t_end=t_end,\n",
    "                  beta=beta, gamma=gamma)"
   ]
  },
  {
   "cell_type": "code",
   "execution_count": 3,
   "metadata": {},
   "outputs": [],
   "source": [
    "def plot_results(S, I, R):\n",
    "    \"\"\"Plot the results of a SIR model.\n",
    "    \n",
    "    S: TimeSeries\n",
    "    I: TimeSeries\n",
    "    R: TimeSeries\n",
    "    \"\"\"\n",
    "    plot(S, '--', label='Susceptible')\n",
    "    plot(I, '-', label='Infected')\n",
    "    plot(R, ':', label='Recovered')\n",
    "    decorate(xlabel='Time (days)',\n",
    "             ylabel='Fraction of population')"
   ]
  },
  {
   "cell_type": "code",
   "execution_count": 4,
   "metadata": {},
   "outputs": [],
   "source": [
    "def calc_total_infected(results):\n",
    "    \"\"\"Fraction of population infected during the simulation.\n",
    "    \n",
    "    results: DataFrame with columns S, I, R\n",
    "    \n",
    "    returns: fraction of population\n",
    "    \"\"\"\n",
    "    return get_first_value(results.S) - get_last_value(results.S)"
   ]
  },
  {
   "cell_type": "code",
   "execution_count": 17,
   "metadata": {},
   "outputs": [],
   "source": [
    "def run_simulation(system, update_func):\n",
    "    \"\"\"Runs a simulation of the system.\n",
    "        \n",
    "    system: System object\n",
    "    update_func: function that updates state\n",
    "    \n",
    "    returns: TimeFrame\n",
    "    \"\"\"\n",
    "    init, t0, t_end = system.init, system.t0, system.t_end\n",
    "    \n",
    "    frame = TimeFrame(columns=init.index)\n",
    "    frame.loc[t0] = init\n",
    "    \n",
    "    for t in linrange(t0, t_end):\n",
    "        frame.loc[t+1] = update_func(frame.loc[t], t, system)\n",
    "    \n",
    "    return frame"
   ]
  },
  {
   "cell_type": "code",
   "execution_count": 6,
   "metadata": {},
   "outputs": [],
   "source": [
    "def update_func(state, t, system):\n",
    "    \"\"\"Update the SIR model.\n",
    "    \n",
    "    state: State (s, i, r)\n",
    "    t: time\n",
    "    system: System object\n",
    "    \n",
    "    returns: State (sir)\n",
    "    \"\"\"\n",
    "    beta, gamma = system.beta, system.gamma\n",
    "    s, i, r = state\n",
    "\n",
    "    infected = beta * i * s    \n",
    "    recovered = gamma * i\n",
    "    \n",
    "    s -= infected\n",
    "    i += infected - recovered\n",
    "    r += recovered\n",
    "    \n",
    "    return State(S=s, I=i, R=r)"
   ]
  },
  {
   "cell_type": "code",
   "execution_count": 23,
   "metadata": {},
   "outputs": [],
   "source": [
    "def get_first_value(series):\n",
    "    return series.values[0]"
   ]
  },
  {
   "cell_type": "code",
   "execution_count": 24,
   "metadata": {},
   "outputs": [],
   "source": [
    "def get_last_value(series):\n",
    "    return series.values[-1]"
   ]
  },
  {
   "cell_type": "markdown",
   "metadata": {},
   "source": [
    "### Sweeping beta"
   ]
  },
  {
   "cell_type": "markdown",
   "metadata": {},
   "source": [
    "Make a range of values for `beta`, with constant `gamma`."
   ]
  },
  {
   "cell_type": "code",
   "execution_count": 7,
   "metadata": {},
   "outputs": [
    {
     "data": {
      "text/plain": [
       "0.2"
      ]
     },
     "execution_count": 7,
     "metadata": {},
     "output_type": "execute_result"
    }
   ],
   "source": [
    "beta_array = [0.1, 0.2, 0.3, 0.4, 0.5, 0.6, 0.7, 0.8, 0.9, 1.0 , 1.1]\n",
    "gamma = 0.2"
   ]
  },
  {
   "cell_type": "markdown",
   "metadata": {},
   "source": [
    "Run the simulation once for each value of `beta` and print total infections."
   ]
  },
  {
   "cell_type": "code",
   "execution_count": 14,
   "metadata": {},
   "outputs": [
    {
     "data": {
      "text/plain": [
       "A    1\n",
       "B    4\n",
       "Name: 0, dtype: int64"
      ]
     },
     "execution_count": 14,
     "metadata": {},
     "output_type": "execute_result"
    }
   ],
   "source": [
    "pd.DataFrame({\"A\": [1,2,3], \"B\":[4,5,6]}).iloc[0]"
   ]
  },
  {
   "cell_type": "code",
   "execution_count": 25,
   "metadata": {},
   "outputs": [
    {
     "name": "stdout",
     "output_type": "stream",
     "text": [
      "0.1 0.010756369178263281\n",
      "0.2 0.11933183743303755\n",
      "0.3 0.5892148636527983\n",
      "0.4 0.8013400756125353\n",
      "0.5 0.896577006076133\n",
      "0.6 0.9429292940628492\n",
      "0.7 0.966299311616815\n",
      "0.8 0.9781518960589847\n",
      "0.9 0.9840568958099003\n",
      "1.0 0.986882350724672\n",
      "1.1 0.9881481770950763\n"
     ]
    }
   ],
   "source": [
    "for beta in beta_array:\n",
    "    system = make_system(beta, gamma)\n",
    "    results = run_simulation(system, update_func)\n",
    "    print(system.beta, calc_total_infected(results))"
   ]
  },
  {
   "cell_type": "markdown",
   "metadata": {},
   "source": [
    "Wrap that loop in a function and return a `SweepSeries` object."
   ]
  },
  {
   "cell_type": "code",
   "execution_count": 26,
   "metadata": {},
   "outputs": [],
   "source": [
    "def sweep_beta(beta_array, gamma):\n",
    "    \"\"\"Sweep a range of values for beta.\n",
    "    \n",
    "    beta_array: array of beta values\n",
    "    gamma: recovery rate\n",
    "    \n",
    "    returns: SweepSeries that maps from beta to total infected\n",
    "    \"\"\"\n",
    "    sweep = SweepSeries()\n",
    "    for beta in beta_array:\n",
    "        system = make_system(beta, gamma)\n",
    "        results = run_simulation(system, update_func)\n",
    "        sweep[system.beta] = calc_total_infected(results)\n",
    "    return sweep"
   ]
  },
  {
   "cell_type": "markdown",
   "metadata": {},
   "source": [
    "Sweep `beta` and plot the results."
   ]
  },
  {
   "cell_type": "code",
   "execution_count": 27,
   "metadata": {},
   "outputs": [
    {
     "data": {
      "text/plain": [
       "Parameter\n",
       "0.1    0.010756\n",
       "0.2    0.119332\n",
       "0.3    0.589215\n",
       "0.4    0.801340\n",
       "0.5    0.896577\n",
       "0.6    0.942929\n",
       "0.7    0.966299\n",
       "0.8    0.978152\n",
       "0.9    0.984057\n",
       "1.0    0.986882\n",
       "1.1    0.988148\n",
       "Name: Metric, dtype: float64"
      ]
     },
     "execution_count": 27,
     "metadata": {},
     "output_type": "execute_result"
    }
   ],
   "source": [
    "infected_sweep = sweep_beta(beta_array, gamma)"
   ]
  },
  {
   "cell_type": "code",
   "execution_count": 28,
   "metadata": {},
   "outputs": [
    {
     "name": "stdout",
     "output_type": "stream",
     "text": [
      "Saving figure to file figs/chap13-fig01.pdf\n"
     ]
    },
    {
     "data": {
      "image/png": "[encoded data removed]",
      "text/plain": [
       "<Figure size 432x288 with 1 Axes>"
      ]
     },
     "metadata": {
      "needs_background": "light"
     },
     "output_type": "display_data"
    }
   ],
   "source": [
    "label = 'gamma = ' + str(gamma)\n",
    "plt.plot(infected_sweep, label=label)\n",
    "\n",
    "decorate(xlabel='Contact rate (beta)',\n",
    "         ylabel='Fraction infected')\n",
    "\n",
    "savefig('figs/chap13-fig01.pdf')"
   ]
  },
  {
   "cell_type": "markdown",
   "metadata": {},
   "source": [
    "### Sweeping gamma"
   ]
  },
  {
   "cell_type": "markdown",
   "metadata": {},
   "source": [
    "Using the same array of values for `beta`"
   ]
  },
  {
   "cell_type": "code",
   "execution_count": 29,
   "metadata": {},
   "outputs": [
    {
     "data": {
      "text/plain": [
       "[0.1, 0.2, 0.3, 0.4, 0.5, 0.6, 0.7, 0.8, 0.9, 1.0, 1.1]"
      ]
     },
     "execution_count": 29,
     "metadata": {},
     "output_type": "execute_result"
    }
   ],
   "source": [
    "beta_array"
   ]
  },
  {
   "cell_type": "markdown",
   "metadata": {},
   "source": [
    "And now an array of values for `gamma`"
   ]
  },
  {
   "cell_type": "code",
   "execution_count": 30,
   "metadata": {},
   "outputs": [
    {
     "data": {
      "text/plain": [
       "[0.2, 0.4, 0.6, 0.8]"
      ]
     },
     "execution_count": 30,
     "metadata": {},
     "output_type": "execute_result"
    }
   ],
   "source": [
    "gamma_array = [0.2, 0.4, 0.6, 0.8]"
   ]
  },
  {
   "cell_type": "markdown",
   "metadata": {},
   "source": [
    "For each value of `gamma`, sweep `beta` and plot the results."
   ]
  },
  {
   "cell_type": "code",
   "execution_count": 34,
   "metadata": {},
   "outputs": [
    {
     "name": "stdout",
     "output_type": "stream",
     "text": [
      "Saving figure to file figs/chap13-fig02.pdf\n"
     ]
    },
    {
     "data": {
      "image/png": "[encoded data removed]",
      "text/plain": [
       "<Figure size 504x288 with 1 Axes>"
      ]
     },
     "metadata": {
      "needs_background": "light"
     },
     "output_type": "display_data"
    }
   ],
   "source": [
    "plt.figure(figsize=(7, 4))\n",
    "\n",
    "for gamma in gamma_array:\n",
    "    infected_sweep = sweep_beta(beta_array, gamma)\n",
    "    label = 'gamma = ' + str(gamma)\n",
    "    plt.plot(infected_sweep, label=label)  \n",
    "\n",
    "    \n",
    "decorate(xlabel='Contact rate (beta)',\n",
    "         ylabel='Fraction infected')\n",
    "\n",
    "plt.legend(bbox_to_anchor=(1.02, 1.02))\n",
    "plt.tight_layout()\n",
    "savefig('figs/chap13-fig02.pdf')"
   ]
  },
  {
   "cell_type": "markdown",
   "metadata": {},
   "source": [
    "**Exercise:**  Suppose the infectious period for the Freshman Plague is known to be 2 days on average, and suppose during one particularly bad year, 40% of the class is infected at some point.  Estimate the time between contacts."
   ]
  },
  {
   "cell_type": "code",
   "execution_count": 45,
   "metadata": {
    "scrolled": true
   },
   "outputs": [
    {
     "data": {
      "text/html": [
       "<div>\n",
       "<style scoped>\n",
       "    .dataframe tbody tr th:only-of-type {\n",
       "        vertical-align: middle;\n",
       "    }\n",
       "\n",
       "    .dataframe tbody tr th {\n",
       "        vertical-align: top;\n",
       "    }\n",
       "\n",
       "    .dataframe thead th {\n",
       "        text-align: right;\n",
       "    }\n",
       "</style>\n",
       "<table border=\"1\" class=\"dataframe\">\n",
       "  <thead>\n",
       "    <tr style=\"text-align: right;\">\n",
       "      <th></th>\n",
       "      <th>0.49</th>\n",
       "      <th>0.50</th>\n",
       "      <th>0.51</th>\n",
       "    </tr>\n",
       "    <tr>\n",
       "      <th>Parameter</th>\n",
       "      <th></th>\n",
       "      <th></th>\n",
       "      <th></th>\n",
       "    </tr>\n",
       "  </thead>\n",
       "  <tbody>\n",
       "    <tr>\n",
       "      <th>0.500000</th>\n",
       "      <td>0.151062</td>\n",
       "      <td>0.132449</td>\n",
       "      <td>0.116279</td>\n",
       "    </tr>\n",
       "    <tr>\n",
       "      <th>0.551724</th>\n",
       "      <td>0.265032</td>\n",
       "      <td>0.239709</td>\n",
       "      <td>0.215553</td>\n",
       "    </tr>\n",
       "    <tr>\n",
       "      <th>0.603448</th>\n",
       "      <td>0.379470</td>\n",
       "      <td>0.354072</td>\n",
       "      <td>0.328885</td>\n",
       "    </tr>\n",
       "    <tr>\n",
       "      <th>0.655172</th>\n",
       "      <td>0.478828</td>\n",
       "      <td>0.455461</td>\n",
       "      <td>0.431974</td>\n",
       "    </tr>\n",
       "    <tr>\n",
       "      <th>0.706897</th>\n",
       "      <td>0.562106</td>\n",
       "      <td>0.541149</td>\n",
       "      <td>0.519949</td>\n",
       "    </tr>\n",
       "    <tr>\n",
       "      <th>0.758621</th>\n",
       "      <td>0.631431</td>\n",
       "      <td>0.612799</td>\n",
       "      <td>0.593876</td>\n",
       "    </tr>\n",
       "    <tr>\n",
       "      <th>0.810345</th>\n",
       "      <td>0.689205</td>\n",
       "      <td>0.672697</td>\n",
       "      <td>0.655879</td>\n",
       "    </tr>\n",
       "    <tr>\n",
       "      <th>0.862069</th>\n",
       "      <td>0.737518</td>\n",
       "      <td>0.722915</td>\n",
       "      <td>0.707997</td>\n",
       "    </tr>\n",
       "    <tr>\n",
       "      <th>0.913793</th>\n",
       "      <td>0.778072</td>\n",
       "      <td>0.765168</td>\n",
       "      <td>0.751951</td>\n",
       "    </tr>\n",
       "    <tr>\n",
       "      <th>0.965517</th>\n",
       "      <td>0.812235</td>\n",
       "      <td>0.800844</td>\n",
       "      <td>0.789146</td>\n",
       "    </tr>\n",
       "    <tr>\n",
       "      <th>1.017241</th>\n",
       "      <td>0.841100</td>\n",
       "      <td>0.831058</td>\n",
       "      <td>0.820717</td>\n",
       "    </tr>\n",
       "    <tr>\n",
       "      <th>1.068966</th>\n",
       "      <td>0.865547</td>\n",
       "      <td>0.856709</td>\n",
       "      <td>0.847584</td>\n",
       "    </tr>\n",
       "    <tr>\n",
       "      <th>1.120690</th>\n",
       "      <td>0.886288</td>\n",
       "      <td>0.878527</td>\n",
       "      <td>0.870490</td>\n",
       "    </tr>\n",
       "    <tr>\n",
       "      <th>1.172414</th>\n",
       "      <td>0.903900</td>\n",
       "      <td>0.897104</td>\n",
       "      <td>0.890044</td>\n",
       "    </tr>\n",
       "    <tr>\n",
       "      <th>1.224138</th>\n",
       "      <td>0.918859</td>\n",
       "      <td>0.912930</td>\n",
       "      <td>0.906748</td>\n",
       "    </tr>\n",
       "    <tr>\n",
       "      <th>1.275862</th>\n",
       "      <td>0.931559</td>\n",
       "      <td>0.926406</td>\n",
       "      <td>0.921015</td>\n",
       "    </tr>\n",
       "    <tr>\n",
       "      <th>1.327586</th>\n",
       "      <td>0.942324</td>\n",
       "      <td>0.937870</td>\n",
       "      <td>0.933190</td>\n",
       "    </tr>\n",
       "    <tr>\n",
       "      <th>1.379310</th>\n",
       "      <td>0.951429</td>\n",
       "      <td>0.947603</td>\n",
       "      <td>0.943564</td>\n",
       "    </tr>\n",
       "    <tr>\n",
       "      <th>1.431034</th>\n",
       "      <td>0.959103</td>\n",
       "      <td>0.955841</td>\n",
       "      <td>0.952380</td>\n",
       "    </tr>\n",
       "    <tr>\n",
       "      <th>1.482759</th>\n",
       "      <td>0.965543</td>\n",
       "      <td>0.962786</td>\n",
       "      <td>0.959844</td>\n",
       "    </tr>\n",
       "    <tr>\n",
       "      <th>1.534483</th>\n",
       "      <td>0.970911</td>\n",
       "      <td>0.968608</td>\n",
       "      <td>0.966133</td>\n",
       "    </tr>\n",
       "    <tr>\n",
       "      <th>1.586207</th>\n",
       "      <td>0.975351</td>\n",
       "      <td>0.973452</td>\n",
       "      <td>0.971396</td>\n",
       "    </tr>\n",
       "    <tr>\n",
       "      <th>1.637931</th>\n",
       "      <td>0.978993</td>\n",
       "      <td>0.977453</td>\n",
       "      <td>0.975770</td>\n",
       "    </tr>\n",
       "    <tr>\n",
       "      <th>1.689655</th>\n",
       "      <td>0.981952</td>\n",
       "      <td>0.980728</td>\n",
       "      <td>0.979376</td>\n",
       "    </tr>\n",
       "    <tr>\n",
       "      <th>1.741379</th>\n",
       "      <td>0.984310</td>\n",
       "      <td>0.983366</td>\n",
       "      <td>0.982308</td>\n",
       "    </tr>\n",
       "    <tr>\n",
       "      <th>1.793103</th>\n",
       "      <td>0.986113</td>\n",
       "      <td>0.985418</td>\n",
       "      <td>0.984623</td>\n",
       "    </tr>\n",
       "    <tr>\n",
       "      <th>1.844828</th>\n",
       "      <td>0.987395</td>\n",
       "      <td>0.986918</td>\n",
       "      <td>0.986356</td>\n",
       "    </tr>\n",
       "    <tr>\n",
       "      <th>1.896552</th>\n",
       "      <td>0.988226</td>\n",
       "      <td>0.987932</td>\n",
       "      <td>0.987569</td>\n",
       "    </tr>\n",
       "    <tr>\n",
       "      <th>1.948276</th>\n",
       "      <td>0.988742</td>\n",
       "      <td>0.988592</td>\n",
       "      <td>0.988387</td>\n",
       "    </tr>\n",
       "    <tr>\n",
       "      <th>2.000000</th>\n",
       "      <td>0.989125</td>\n",
       "      <td>0.989078</td>\n",
       "      <td>0.988992</td>\n",
       "    </tr>\n",
       "  </tbody>\n",
       "</table>\n",
       "</div>"
      ],
      "text/plain": [
       "               0.49      0.50      0.51\n",
       "Parameter                              \n",
       "0.500000   0.151062  0.132449  0.116279\n",
       "0.551724   0.265032  0.239709  0.215553\n",
       "0.603448   0.379470  0.354072  0.328885\n",
       "0.655172   0.478828  0.455461  0.431974\n",
       "0.706897   0.562106  0.541149  0.519949\n",
       "0.758621   0.631431  0.612799  0.593876\n",
       "0.810345   0.689205  0.672697  0.655879\n",
       "0.862069   0.737518  0.722915  0.707997\n",
       "0.913793   0.778072  0.765168  0.751951\n",
       "0.965517   0.812235  0.800844  0.789146\n",
       "1.017241   0.841100  0.831058  0.820717\n",
       "1.068966   0.865547  0.856709  0.847584\n",
       "1.120690   0.886288  0.878527  0.870490\n",
       "1.172414   0.903900  0.897104  0.890044\n",
       "1.224138   0.918859  0.912930  0.906748\n",
       "1.275862   0.931559  0.926406  0.921015\n",
       "1.327586   0.942324  0.937870  0.933190\n",
       "1.379310   0.951429  0.947603  0.943564\n",
       "1.431034   0.959103  0.955841  0.952380\n",
       "1.482759   0.965543  0.962786  0.959844\n",
       "1.534483   0.970911  0.968608  0.966133\n",
       "1.586207   0.975351  0.973452  0.971396\n",
       "1.637931   0.978993  0.977453  0.975770\n",
       "1.689655   0.981952  0.980728  0.979376\n",
       "1.741379   0.984310  0.983366  0.982308\n",
       "1.793103   0.986113  0.985418  0.984623\n",
       "1.844828   0.987395  0.986918  0.986356\n",
       "1.896552   0.988226  0.987932  0.987569\n",
       "1.948276   0.988742  0.988592  0.988387\n",
       "2.000000   0.989125  0.989078  0.988992"
      ]
     },
     "execution_count": 45,
     "metadata": {},
     "output_type": "execute_result"
    }
   ],
   "source": [
    "# We can estimate the time between contacts by creating a new system with a specified recovery rate\n",
    "\n",
    "tr = 2             # recovery time in days\n",
    "\n",
    "gamma = 1 / tr     # set the appropriate gamma\n",
    "\n",
    "beta_array = np.linspace(.5,2,30)  # create sweep array for beta values\n",
    "\n",
    "gamma_array = [gamma -.01, gamma, gamma+.01]  # create localized sweep for gamma values\n",
    "\n",
    "frame = sweep_parameters(beta_array, gamma_array)  # sweep the parameters for the two arrays"
   ]
  },
  {
   "cell_type": "markdown",
   "metadata": {},
   "source": [
    "From the above SweepFrame, we can see that when we lock gamma to 0.5, the beta value needs to be between .6 and .65 in order for the total population infection rate to be 40%"
   ]
  },
  {
   "cell_type": "code",
   "execution_count": 47,
   "metadata": {},
   "outputs": [
    {
     "name": "stdout",
     "output_type": "stream",
     "text": [
      "Therefore, we know that the time between contacts must be between 1.5384615384615383 and 1.6666666666666667 days\n"
     ]
    }
   ],
   "source": [
    "# Solution goes here\n",
    "print(\"Therefore, we know that the time between contacts must be between {} and {} days\".format(1/.65, 1/.60))"
   ]
  },
  {
   "cell_type": "markdown",
   "metadata": {},
   "source": [
    "## SweepFrame\n",
    "\n",
    "The following sweeps two parameters and stores the results in a `SweepFrame`"
   ]
  },
  {
   "cell_type": "code",
   "execution_count": 35,
   "metadata": {},
   "outputs": [],
   "source": [
    "def sweep_parameters(beta_array, gamma_array):\n",
    "    \"\"\"Sweep a range of values for beta and gamma.\n",
    "    \n",
    "    beta_array: array of infection rates\n",
    "    gamma_array: array of recovery rates\n",
    "    \n",
    "    returns: SweepFrame with one row for each beta\n",
    "             and one column for each gamma\n",
    "    \"\"\"\n",
    "    frame = SweepFrame(columns=gamma_array)\n",
    "    for gamma in gamma_array:\n",
    "        frame[gamma] = sweep_beta(beta_array, gamma)\n",
    "    return frame"
   ]
  },
  {
   "cell_type": "markdown",
   "metadata": {},
   "source": [
    "Here's what the `SweepFrame` look like."
   ]
  },
  {
   "cell_type": "code",
   "execution_count": 36,
   "metadata": {},
   "outputs": [
    {
     "data": {
      "text/html": [
       "<div>\n",
       "<style scoped>\n",
       "    .dataframe tbody tr th:only-of-type {\n",
       "        vertical-align: middle;\n",
       "    }\n",
       "\n",
       "    .dataframe tbody tr th {\n",
       "        vertical-align: top;\n",
       "    }\n",
       "\n",
       "    .dataframe thead th {\n",
       "        text-align: right;\n",
       "    }\n",
       "</style>\n",
       "<table border=\"1\" class=\"dataframe\">\n",
       "  <thead>\n",
       "    <tr style=\"text-align: right;\">\n",
       "      <th></th>\n",
       "      <th>0.2</th>\n",
       "      <th>0.4</th>\n",
       "      <th>0.6</th>\n",
       "      <th>0.8</th>\n",
       "    </tr>\n",
       "    <tr>\n",
       "      <th>Parameter</th>\n",
       "      <th></th>\n",
       "      <th></th>\n",
       "      <th></th>\n",
       "      <th></th>\n",
       "    </tr>\n",
       "  </thead>\n",
       "  <tbody>\n",
       "    <tr>\n",
       "      <th>0.1</th>\n",
       "      <td>0.010756</td>\n",
       "      <td>0.003642</td>\n",
       "      <td>0.002191</td>\n",
       "      <td>0.001567</td>\n",
       "    </tr>\n",
       "    <tr>\n",
       "      <th>0.2</th>\n",
       "      <td>0.119332</td>\n",
       "      <td>0.010763</td>\n",
       "      <td>0.005447</td>\n",
       "      <td>0.003644</td>\n",
       "    </tr>\n",
       "    <tr>\n",
       "      <th>0.3</th>\n",
       "      <td>0.589215</td>\n",
       "      <td>0.030185</td>\n",
       "      <td>0.010771</td>\n",
       "      <td>0.006526</td>\n",
       "    </tr>\n",
       "    <tr>\n",
       "      <th>0.4</th>\n",
       "      <td>0.801340</td>\n",
       "      <td>0.131604</td>\n",
       "      <td>0.020917</td>\n",
       "      <td>0.010780</td>\n",
       "    </tr>\n",
       "    <tr>\n",
       "      <th>0.5</th>\n",
       "      <td>0.896577</td>\n",
       "      <td>0.396416</td>\n",
       "      <td>0.046140</td>\n",
       "      <td>0.017640</td>\n",
       "    </tr>\n",
       "  </tbody>\n",
       "</table>\n",
       "</div>"
      ],
      "text/plain": [
       "                0.2       0.4       0.6       0.8\n",
       "Parameter                                        \n",
       "0.1        0.010756  0.003642  0.002191  0.001567\n",
       "0.2        0.119332  0.010763  0.005447  0.003644\n",
       "0.3        0.589215  0.030185  0.010771  0.006526\n",
       "0.4        0.801340  0.131604  0.020917  0.010780\n",
       "0.5        0.896577  0.396416  0.046140  0.017640"
      ]
     },
     "execution_count": 36,
     "metadata": {},
     "output_type": "execute_result"
    }
   ],
   "source": [
    "frame = sweep_parameters(beta_array, gamma_array)\n",
    "frame.head()"
   ]
  },
  {
   "cell_type": "markdown",
   "metadata": {},
   "source": [
    "And here's how we can plot the results."
   ]
  },
  {
   "cell_type": "code",
   "execution_count": 39,
   "metadata": {},
   "outputs": [
    {
     "data": {
      "image/png": "[encoded data removed]",
      "text/plain": [
       "<Figure size 432x288 with 1 Axes>"
      ]
     },
     "metadata": {
      "needs_background": "light"
     },
     "output_type": "display_data"
    }
   ],
   "source": [
    "for gamma in gamma_array:\n",
    "    label = 'gamma = ' + str(gamma)\n",
    "    plt.plot(frame[gamma], label=label)\n",
    "    \n",
    "decorate(xlabel='Contact rate (beta)',\n",
    "         ylabel='Fraction infected',\n",
    "         title='')"
   ]
  },
  {
   "cell_type": "markdown",
   "metadata": {},
   "source": [
    "We can also plot one line for each value of `beta`, although there are a lot of them."
   ]
  },
  {
   "cell_type": "code",
   "execution_count": 42,
   "metadata": {},
   "outputs": [
    {
     "data": {
      "image/png": "[encoded data removed]",
      "text/plain": [
       "<Figure size 504x288 with 1 Axes>"
      ]
     },
     "metadata": {
      "needs_background": "light"
     },
     "output_type": "display_data"
    }
   ],
   "source": [
    "plt.figure(figsize=(7, 4))\n",
    "\n",
    "\n",
    "for beta in [1.1, 0.9, 0.7, 0.5, 0.3]:\n",
    "    label = 'beta = ' + str(beta)\n",
    "    plt.plot(frame.loc[beta], label=label)\n",
    "    \n",
    "decorate(xlabel='Recovery rate (gamma)',\n",
    "         ylabel='Fraction infected')\n",
    "\n",
    "plt.legend(bbox_to_anchor=(1.02, 1.02))\n",
    "plt.tight_layout()\n",
    "#savefig('figs/chap13-fig03.pdf')"
   ]
  },
  {
   "cell_type": "markdown",
   "metadata": {},
   "source": [
    "It's often useful to separate the code that generates results from the code that plots the results, so we can run the simulations once, save the results, and then use them for different analysis, visualization, etc.\n",
    "\n",
    "After running `sweep_parameters`, we have a `SweepFrame` with one row for each value of `beta` and one column for each value of `gamma`."
   ]
  },
  {
   "cell_type": "code",
   "execution_count": 43,
   "metadata": {
    "scrolled": true
   },
   "outputs": [
    {
     "data": {
      "image/png": "[encoded data removed]",
      "text/plain": [
       "<Figure size 432x288 with 1 Axes>"
      ]
     },
     "metadata": {
      "needs_background": "light"
     },
     "output_type": "display_data"
    }
   ],
   "source": [
    "contour(frame)\n",
    "\n",
    "decorate(xlabel='Recovery rate (gamma)',\n",
    "         ylabel='Contact rate (beta)',\n",
    "         title='Fraction infected, contour plot')\n",
    "\n",
    "#savefig('figs/chap13-fig04.pdf')"
   ]
  },
  {
   "cell_type": "code",
   "execution_count": null,
   "metadata": {},
   "outputs": [],
   "source": []
  }
 ],
 "metadata": {
  "kernelspec": {
   "display_name": "Python 3 (ipykernel)",
   "language": "python",
   "name": "python3"
  },
  "language_info": {
   "codemirror_mode": {
    "name": "ipython",
    "version": 3
   },
   "file_extension": ".py",
   "mimetype": "text/x-python",
   "name": "python",
   "nbconvert_exporter": "python",
   "pygments_lexer": "ipython3",
   "version": "3.9.1"
  }
 },
 "nbformat": 4,
 "nbformat_minor": 2
}
